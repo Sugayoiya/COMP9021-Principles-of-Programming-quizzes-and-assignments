{
 "cells": [
  {
   "cell_type": "code",
   "execution_count": 3,
   "metadata": {},
   "outputs": [
    {
     "name": "stdout",
     "output_type": "stream",
     "text": [
      "please input string: fadfweafea\n",
      "0\n",
      "1\n",
      "2\n",
      "3\n",
      "4\n",
      "5\n",
      "6\n",
      "7\n",
      "8\n",
      "9\n"
     ]
    }
   ],
   "source": [
    "# %load longest.py\n",
    "# print(ord('a'))\n",
    "ss = []\n",
    "L = input('please input string: ')\n",
    "ss = L\n",
    "dd = []\n",
    "length = 0\n",
    "for e in ss:\n",
    "    dd.append(ord(e))\n",
    "dd\n",
    "for i in range(len(dd)):\n",
    "    current = dd[i]\n",
    "    for j in range(i,len(dd)):\n",
    "        if current + 1 in dd[j]:\n",
    "            length += 1\n",
    "            current = "
   ]
  },
  {
   "cell_type": "code",
   "execution_count": 20,
   "metadata": {},
   "outputs": [
    {
     "name": "stdout",
     "output_type": "stream",
     "text": [
      "Input a number that we will use as available digits: 1234321\n",
      "Input a number that represents the desired sum: 5\n",
      "There is 10 solution.\n"
     ]
    }
   ],
   "source": [
    "from itertools import combinations\n",
    "\n",
    "b = input('Input a number that we will use as available digits: ')\n",
    "c = int(input('Input a number that represents the desired sum: '))\n",
    "# print(type(b))\n",
    "count = 0\n",
    "L = []\n",
    "for e in b:\n",
    "    L.append(int(e))\n",
    "for i in range(len(L)+1):\n",
    "    for j in combinations(L,i):\n",
    "        if sum(list(j)) == c:\n",
    "            count += 1\n",
    "if count < 1:\n",
    "    print('There is no solution.')\n",
    "elif count == 1:\n",
    "    print('There is a unique solution.')\n",
    "else:\n",
    "    print(f'There is {count} solution.')"
   ]
  },
  {
   "cell_type": "code",
   "execution_count": 26,
   "metadata": {},
   "outputs": [
    {
     "name": "stdout",
     "output_type": "stream",
     "text": [
      "('a', 'b')\n"
     ]
    }
   ],
   "source": [
    "from itertools import combinations\n",
    "a = ['a','b','c','d']\n",
    "b = ['a','b']\n",
    "for i in combinations(a,2):\n",
    "    if b == list(i):\n",
    "        print(i)\n"
   ]
  },
  {
   "cell_type": "code",
   "execution_count": null,
   "metadata": {
    "collapsed": true
   },
   "outputs": [],
   "source": []
  }
 ],
 "metadata": {
  "kernelspec": {
   "display_name": "Python 3",
   "language": "python",
   "name": "python3"
  },
  "language_info": {
   "codemirror_mode": {
    "name": "ipython",
    "version": 3
   },
   "file_extension": ".py",
   "mimetype": "text/x-python",
   "name": "python",
   "nbconvert_exporter": "python",
   "pygments_lexer": "ipython3",
   "version": "3.6.2"
  }
 },
 "nbformat": 4,
 "nbformat_minor": 2
}
