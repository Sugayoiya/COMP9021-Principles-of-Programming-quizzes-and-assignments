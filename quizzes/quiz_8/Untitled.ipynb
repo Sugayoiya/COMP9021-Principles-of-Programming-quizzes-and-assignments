{
 "cells": [
  {
   "cell_type": "code",
   "execution_count": null,
   "metadata": {
    "collapsed": true
   },
   "outputs": [],
   "source": [
    "class stackException(Exception):\n",
    "    def __init__(self,message):\n",
    "        self.message = message\n",
    "\n",
    "class stack:\n",
    "    def __init__(self):\n",
    "        self._data = []\n",
    "    def peek_at_top(self):\n",
    "        if not self._data:\n",
    "            raise stackException('stack is empty')\n",
    "        return self._data[-1]\n",
    "    def pop(self):\n",
    "        if not self._data:\n",
    "            raise stackException('cannot pop from empty stack')\n",
    "        return self._data.pop()\n",
    "    def push(self,datum):\n",
    "        self._data.append(datum)\n",
    "    def isempty(self):\n",
    "        return self._data == []\n",
    "        "
   ]
  },
  {
   "cell_type": "code",
   "execution_count": null,
   "metadata": {
    "collapsed": true
   },
   "outputs": [],
   "source": [
    "def check_well_balanced(expression):\n",
    "    stack_1 = stack()\n",
    "    parenthesses = {'}':'{',']':'[',')':'('}\n",
    "    for e in expression:\n",
    "        if e in '({[':\n",
    "            stack_1.push(e)\n",
    "        elif e in ')}]':\n",
    "            try:\n",
    "                if stack_1.pop() != parenthesses(e):\n",
    "                    raise stackException('parenthesses error')\n",
    "            except stackException:\n",
    "                return False\n",
    "    return stack_1.isempty()\n",
    "\n",
    "check_well_balanced('2')"
   ]
  },
  {
   "cell_type": "code",
   "execution_count": null,
   "metadata": {
    "collapsed": true
   },
   "outputs": [],
   "source": [
    "T = { 1:[2,4,5], 2:[3], 5:[6,11,13], 6:[7,8,10], 8:[9], 11:[12]}\n",
    "\n",
    "def depth_first():\n",
    "    stack_2 = stack()\n",
    "    stack_2.push([1])\n",
    "    while not stack_2.isempty():\n",
    "        path = stack_2.pop()\n",
    "        print(path)\n",
    "        if path[-1] in T:\n",
    "            for child in reversed(T[path[-1]]):\n",
    "                stack_2.push(list(path) + [child])\n",
    "        \n",
    "depth_first()"
   ]
  },
  {
   "cell_type": "code",
   "execution_count": null,
   "metadata": {
    "collapsed": true
   },
   "outputs": [],
   "source": [
    "x = [1,2,3,4]\n",
    "for e in x :\n",
    "    print(e)\n",
    "x.sort(reverse= True)\n",
    "x"
   ]
  },
  {
   "cell_type": "code",
   "execution_count": null,
   "metadata": {
    "collapsed": true
   },
   "outputs": [],
   "source": [
    "def nnn(x,y):\n",
    "    if any( [x < 0 , x > 9 , y < 0 , y > 9]):\n",
    "        return False\n",
    "nnn(1,9)"
   ]
  },
  {
   "cell_type": "code",
   "execution_count": null,
   "metadata": {
    "collapsed": true
   },
   "outputs": [],
   "source": [
    "x = [(5, 5), (4, 5), (3, 5), (2, 5), (1, 5), (0, 5), (0, 6), (0, 7), (0, 8), (0, 9), (1, 9), (2, 9), (3, 9), (4, 9),\n",
    " (5, 9), (6, 9), (7, 9), (8, 9), (9, 9), (9, 8), (9, 7), (9, 6), (9, 5), (9, 4), (9, 3), (9, 2), (9, 1), (9, 0),\n",
    " (8, 0), (7, 0), (6, 0), (5, 0), (4, 0), (3, 0), (2, 0), (1, 0), (0, 0), (0, 1), (0, 2), (0, 3), (0, 4), (1, 4),\n",
    " (2, 4), (3, 4), (4, 4), (5, 4), (6, 4), (7, 4), (8, 4), (8, 3), (8, 2), (8, 1), (7, 1), (6, 1), (5, 1), (4, 1),\n",
    " (3, 1), (2, 1), (1, 1), (1, 2), (1, 3), (2, 3), (3, 3), (4, 3), (5, 3), (6, 3), (7, 3), (7, 2), (6, 2), (5, 2),\n",
    " (4, 2), (3, 2), (2, 2), (8, 5), (7, 5), (6, 5), (6, 6), (6, 7), (6, 8)] \n",
    "y = [(5, 5), (4, 5), (3, 5), (2, 5), (1, 5), (0, 5), (0, 6), (0, 7), (0, 8), (0, 9), (1, 9), (2, 9), (3, 9), (4, 9),\n",
    " (5, 9), (6, 9), (7, 9), (8, 9), (9, 9), (9, 8), (9, 7), (9, 6), (9, 5), (9, 4), (9, 3), (9, 2), (9, 1), (9, 0), \n",
    " (8, 0), (7, 0), (6, 0), (5, 0), (4, 0), (3, 0), (2, 0), (1, 0), (0, 0), (0, 1), (0, 2), (0, 3), (0, 4), (1, 4), \n",
    " (2, 4), (3, 4), (4, 4), (5, 4), (6, 4), (7, 4), (7, 3), (7, 2), (6, 2), (5, 2), (4, 2), (3, 2), (2, 2), (1, 2), \n",
    " (1, 1), (2, 1), (3, 1), (4, 1), (5, 1), (6, 1), (7, 1), (8, 1), (8, 2), (8, 3), (8, 4), (8, 5), (8, 6), (8, 7), \n",
    "     (8, 8), (7, 8), (6, 8)]\n",
    "x == y"
   ]
  },
  {
   "cell_type": "code",
   "execution_count": null,
   "metadata": {
    "collapsed": true
   },
   "outputs": [],
   "source": [
    "from random import seed, randrange\n",
    "\n",
    "def display_grid():\n",
    "    for i in range(len(grid)):\n",
    "        print('   ', ' '.join(str(grid[i][j]) for j in range(len(grid[0]))))\n",
    "try:\n",
    "    for_seed, bound, x, y, target = [int(x) for x in input('Enter five integers: ').split()]\n",
    "    if bound < 1 or x not in range(10) or y not in range(10) or target < 0:\n",
    "        raise ValueError\n",
    "except ValueError:\n",
    "    print('Incorrect input, giving up.')\n",
    "    sys.exit()\n",
    "seed(for_seed)\n",
    "grid = [[randrange(bound) for _ in range(10)] for _ in range(10)]\n",
    "\n",
    "print('Here is the grid that has been generated:')\n",
    "display_grid()"
   ]
  },
  {
   "cell_type": "code",
   "execution_count": null,
   "metadata": {
    "collapsed": true
   },
   "outputs": [],
   "source": [
    "def f(x):\n",
    "    if 1:\n",
    "        return(x+1)\n",
    "f(-1)"
   ]
  },
  {
   "cell_type": "code",
   "execution_count": null,
   "metadata": {
    "collapsed": true
   },
   "outputs": [],
   "source": [
    "d = [3,4,1,2]\n",
    "for i in d:\n",
    "    print(i)\n",
    "    print(type(i))"
   ]
  },
  {
   "cell_type": "code",
   "execution_count": null,
   "metadata": {
    "collapsed": true
   },
   "outputs": [],
   "source": [
    "direction = {0: [0,1,2,3], \n",
    "             1: [1,2,3,0],\n",
    "             2: [2,3,0,1],\n",
    "             3: [3,0,1,2]}\n",
    "for i in direction:\n",
    "    for e in direction[i]:\n",
    "        print(e)"
   ]
  },
  {
   "cell_type": "code",
   "execution_count": null,
   "metadata": {
    "collapsed": true
   },
   "outputs": [],
   "source": [
    "direction = {'0': [[0,1,2,3],lambda x,y:[x-1,y]], \\\n",
    "             '1': [[1,2,3,0],lambda x,y:[x,y+1]],\\\n",
    "             '2': [[2,3,0,1],lambda x,y:[x+1,y]],\\\n",
    "             '3': [[3,0,1,2],lambda x,y:[x,y-1]]}\n",
    "\n",
    "\n",
    "def hasChild(L,x,y,dire = '0'):\n",
    "    direction = {'0': [[0,1,2,3],lambda x,y:[x-1,y]], \\\n",
    "             '1': [[1,2,3,0],lambda x,y:[x,y+1]],\\\n",
    "             '2': [[2,3,0,1],lambda x,y:[x+1,y]],\\\n",
    "             '3': [[3,0,1,2],lambda x,y:[x,y-1]]}\n",
    "    if any( [x < 0 , x > 4 , y < 0 , y > 4]):\n",
    "        return False\n",
    "    if L[x][y] == -1:\n",
    "             return False\n",
    "    print(x,y)\n",
    "    L[x][y] = -1\n",
    "#     print(grid)\n",
    "    for e in direction[dire][0]:\n",
    "        hasChild(L,*(direction[str(e)][1](x,y)),str(e))\n",
    "    return x,y\n",
    "\n",
    "grid = [[1 for _ in range(5)] for _ in range(5)]\n",
    "while hasChild(grid, 1, 1):\n",
    "    pass\n",
    "    \n",
    "def display_grid():\n",
    "    for i in range(len(grid)):\n",
    "        print('   ', ' '.join(str(grid[i][j]) for j in range(len(grid[0]))))\n",
    "\n",
    "display_grid()"
   ]
  },
  {
   "cell_type": "code",
   "execution_count": null,
   "metadata": {
    "collapsed": true
   },
   "outputs": [],
   "source": [
    "direction = {0: [[0,1,2,3],lambda x,y:[x-1,y]], \\\n",
    "             1: [[1,2,3,0],lambda x,y:[x,y+1]],\\\n",
    "             2: [[2,3,0,1],lambda x,y:[x+1,y]],\\\n",
    "             3: [[3,0,1,2],lambda x,y:[x,y-1]]}\n",
    "\n",
    "# while x<10 and y<10:\n",
    "x = 1 \n",
    "y = 2\n",
    "direction[1][1](x,y)"
   ]
  },
  {
   "cell_type": "code",
   "execution_count": null,
   "metadata": {
    "scrolled": true
   },
   "outputs": [],
   "source": [
    "from random import seed, randrange\n",
    "from collections import defaultdict\n",
    "\n",
    "def display_grid():\n",
    "    for i in range(len(grid)):\n",
    "        print('   ', ' '.join(str(grid[i][j]) for j in range(len(grid[0]))))\n",
    "\n",
    "def hasChild(L,x,y,dire = '0'):\n",
    "    values = 0\n",
    "    fake = list((list(ele) for ele in L )) #important\n",
    "    childrenList = defaultdict(list)\n",
    "    direction = {'0': [[0,1,2,3],lambda x,y:[x-1,y]], \\\n",
    "             '1': [[1,2,3,0],lambda x,y:[x,y+1]],\\\n",
    "             '2': [[2,3,0,1],lambda x,y:[x+1,y]],\\\n",
    "             '3': [[3,0,1,2],lambda x,y:[x,y-1]]}\n",
    "    if any( [x < 0 , x > 9 , y < 0 , y > 9]):\n",
    "        return False\n",
    "    if fake[x][y] == -1:\n",
    "        return False\n",
    "    print(x,y)\n",
    "    display_grid()\n",
    "    fake[x][y] = -1\n",
    "    # e : directions\n",
    "    for e in reversed(direction[dire][0]):\n",
    "        colunm,row=(direction[str(e)][1](x,y))\n",
    "        if all([colunm>=0, colunm<=10, row>=0, row<=10]):\n",
    "            if fake[colunm][row] >= 0:\n",
    "                childrenList[(colunm,row)].append((fake[colunm][row],str(e),fake))\n",
    "    return childrenList\n",
    "\n",
    "grid = [[randrange(20) for _ in range(10)] for _ in range(10)]\n",
    "\n",
    "print(hasChild(grid, 1, 1, '0'))\n",
    "print(hasChild(grid, 1, 0))\n",
    "\n",
    "# no child test\n",
    "grid1 = [[-1 for _ in range(10)] for _ in range(10)]\n",
    "grid1[1][1] = 1\n",
    "if hasChild(grid1, 1, 1, '0'):\n",
    "    print('have child')\n",
    "# end\n",
    "s = 0\n",
    "for e in grid:\n",
    "    t = sum(e)\n",
    "    s += t\n",
    "print(s)"
   ]
  },
  {
   "cell_type": "code",
   "execution_count": null,
   "metadata": {
    "collapsed": true
   },
   "outputs": [],
   "source": [
    "b = [[12, 2, 18, 16, 10, 7, 14, 7, 11, 15],\n",
    " [-1, -1, -1, 0, 17, 12, 14, 7, 13, 7],\n",
    " [8, 15, 15, 4, 7, 14, 9, 11, 15, 19],\n",
    " [4, 16, 2, 6, 9, 16, 3, 1, 4, 10],\n",
    " [1, 10, 19, 5, 14, 12, 6, 13, 15, 6],\n",
    " [5, 12, 1, 10, 16, 6, 10, 5, 16, 17],\n",
    " [19, 18, 13, 4, 19, 15, 18, 6, 19, 14],\n",
    " [1, 7, 15, 19, 10, 17, 6, 0, 1, 1],\n",
    " [4, 7, 14, 19, 7, 3, 16, 13, 9, 10],\n",
    " [15, 6, 5, 11, 17, 11, 14, 12, 14, 10]]\n",
    "c = b.copy()\n",
    "c[0] = 3121\n",
    "b\n",
    "c"
   ]
  },
  {
   "cell_type": "code",
   "execution_count": null,
   "metadata": {
    "collapsed": true
   },
   "outputs": [],
   "source": [
    "dd = [[1,2,3,4],[5,6,7,8]]\n",
    "cc =list((list(e) for e in dd))\n",
    "cc[0][0] = 12\n",
    "dd\n"
   ]
  },
  {
   "cell_type": "code",
   "execution_count": 38,
   "metadata": {},
   "outputs": [
    {
     "data": {
      "text/plain": [
       "[(0, 0), 1, 0]"
      ]
     },
     "execution_count": 38,
     "metadata": {},
     "output_type": "execute_result"
    }
   ],
   "source": [
    "path = [(0,0)]\n",
    "t=(1,0)\n",
    "for i in t:\n",
    "    path.append(i)\n",
    "path"
   ]
  },
  {
   "cell_type": "code",
   "execution_count": 39,
   "metadata": {},
   "outputs": [
    {
     "data": {
      "text/plain": [
       "True"
      ]
     },
     "execution_count": 39,
     "metadata": {},
     "output_type": "execute_result"
    }
   ],
   "source": [
    "[(5, 5), (4, 5), (3, 5), (2, 5), (1, 5), (0, 5), (0, 6), (0, 7), (0, 8), (0, 9), (1, 9), (2, 9), (3, 9),\n",
    " (4, 9), (5, 9), (6, 9), (7, 9), (8, 9), (9, 9), (9, 8), (9, 7), (9, 6), (9, 5), (9, 4), (9, 3), (9, 2), \n",
    " (9, 1), (9, 0), (8, 0), (7, 0), (6, 0), (5, 0), (4, 0), (3, 0), (2, 0), (1, 0), (0, 0), (0, 1), (0, 2), \n",
    " (0, 3), (0, 4), (1, 4), (2, 4), (3, 4), (4, 4), (5, 4), (6, 4), (7, 4), (7, 3), (7, 2), (6, 2), (5, 2), \n",
    " (4, 2), (3, 2), (2, 2), (1, 2), (1, 1), (2, 1), (3, 1), (4, 1), (5, 1), (6, 1), (7, 1), (8, 1), (8, 2), \n",
    " (8, 3), (8, 4), (8, 5), (8, 6), (8, 7), (8, 8), (7, 8), (6, 8)] ==[(5, 5), (4, 5), (3, 5), (2, 5), (1, 5), (0, 5), (0, 6), (0, 7), (0, 8), (0, 9), (1, 9), (2, 9), (3, 9), (4, 9), (5, 9), (6, 9), (7, 9), (8, 9), (9, 9), (9, 8), (9, 7), (9, 6), (9, 5), (9, 4), (9, 3), (9, 2), (9, 1), (9, 0), (8, 0), (7, 0), (6, 0), (5, 0), (4, 0), (3, 0), (2, 0), (1, 0), (0, 0), (0, 1), (0, 2), (0, 3), (0, 4), (1, 4), (2, 4), (\n",
    "3, 4), (4, 4), (5, 4), (6, 4), (7, 4), (7, 3), (7, 2), (6, 2), (5, 2), (4, 2), (3, 2), (2, 2), (1, 2), (1, 1), (2, 1), (3, 1), (4, 1), (5, 1), (6, 1), (7, 1), (8, 1), (8, 2), (8, 3), (8, 4), (8, 5), (8, 6), (8, 7), (8, 8), (7, 8), (6, 8)]\n",
    "\n"
   ]
  },
  {
   "cell_type": "code",
   "execution_count": 44,
   "metadata": {},
   "outputs": [
    {
     "data": {
      "text/plain": [
       "False"
      ]
     },
     "execution_count": 44,
     "metadata": {},
     "output_type": "execute_result"
    }
   ],
   "source": [
    "a = [(4, 5), (3, 5), (2, 5), (1, 5), (0, 5), (0, 6), (0, 7), (0, 8), (0, 9), (1, 9), \n",
    "(2, 9), (3, 9), (4, 9), (5, 9), (6, 9), (7, 9), (8, 9), (9, 9), (9, 8), (9, 7), \n",
    "(9, 6), (9, 5), (9, 4), (9, 3), (9, 2), (9, 1), (9, 0), (8, 0), (7, 0), (6, 0), \n",
    "(5, 0), (4, 0), (3, 0), (2, 0), (1, 0), (0, 0), (0, 1), (0, 2), (0, 3), (0, 4), \n",
    "(1, 4), (2, 4), (3, 4), (4, 4), (5, 4), (6, 4), (7, 4), (7, 3), (7, 2), (6, 2), \n",
    "(5, 2), (4, 2), (4, 3), (3, 3), (2, 3), (1, 3), (1, 2), (1, 1), (2, 1), (2, 2), \n",
    "(3, 2), (3, 1), (4, 1), (5, 1), (6, 1), (7, 1), (8, 1), (8, 2), (8, 3), (8, 4), \n",
    "(8, 5), (8, 6), (8, 7), (8, 8), (7, 8), (6, 8), (5, 8), (4, 8), (3, 8), (2, 8), \n",
    "(1, 8), (1, 7), (1, 6), (2, 6), (3, 6), (4, 6), (5, 6), (5, 5), (6, 5), (6, 6), \n",
    "(7, 6), (7, 7), (6, 7), (5, 7), (4, 7), (3, 7), (2, 7)]\n",
    "\n",
    "b = [(4, 5), (3, 5), (2, 5), (1, 5), (0, 5), (0, 6), (0, 7), (0, 8), (0, 9), (1, 9), \n",
    "(2, 9), (3, 9), (4, 9), (5, 9), (6, 9), (7, 9), (8, 9), (9, 9), (9, 8), (9, 7), \n",
    "(9, 6), (9, 5), (9, 4), (9, 3), (9, 2), (9, 1), (9, 0), (8, 0), (7, 0), (6, 0), \n",
    "(5, 0), (4, 0), (3, 0), (2, 0), (1, 0), (0, 0), (0, 1), (0, 2), (0, 3), (0, 4), \n",
    "(1, 4), (2, 4), (3, 4), (4, 4), (5, 4), (6, 4), (7, 4), (7, 3), (7, 2), (6, 2), \n",
    "(5, 2), (4, 2), (4, 3), (3, 3), (2, 3), (1, 3), (1, 2), (1, 1), (2, 1), (2, 2), \n",
    "(3, 2), (3, 1), (4, 1), (5, 1), (6, 1), (7, 1), (8, 1), (8, 2), (8, 3), (8, 4), \n",
    "(8, 5), (8, 6), (8, 7), (8, 8), (7, 8), (6, 8), (5, 8), (4, 8), (3, 8), (2, 8), \n",
    "(1, 8), (1, 7), (1, 6), (2, 6), (3, 6), (4, 6), (5, 6), (5, 5), (6, 5), (6, 6), \n",
    "(7, 6), (7, 7), (6, 7), (5, 7), (4, 7), (3, 7)]\n",
    "\n",
    "(2,7) in b"
   ]
  },
  {
   "cell_type": "code",
   "execution_count": null,
   "metadata": {
    "collapsed": true
   },
   "outputs": [],
   "source": []
  }
 ],
 "metadata": {
  "kernelspec": {
   "display_name": "Python 3",
   "language": "python",
   "name": "python3"
  },
  "language_info": {
   "codemirror_mode": {
    "name": "ipython",
    "version": 3
   },
   "file_extension": ".py",
   "mimetype": "text/x-python",
   "name": "python",
   "nbconvert_exporter": "python",
   "pygments_lexer": "ipython3",
   "version": "3.6.2"
  }
 },
 "nbformat": 4,
 "nbformat_minor": 2
}
