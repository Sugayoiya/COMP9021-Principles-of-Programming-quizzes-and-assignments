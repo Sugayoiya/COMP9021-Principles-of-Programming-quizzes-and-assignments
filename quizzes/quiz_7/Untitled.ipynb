{
 "cells": [
  {
   "cell_type": "code",
   "execution_count": 2,
   "metadata": {},
   "outputs": [
    {
     "name": "stdout",
     "output_type": "stream",
     "text": [
      "May female Peter male\n",
      "woman\n",
      "man\n"
     ]
    }
   ],
   "source": [
    "class Person(object):\n",
    "    def __init__(self,name,sex):\n",
    "        self.name = name\n",
    "        self.sex = sex\n",
    "        \n",
    "    def print_title(self):\n",
    "        if self.sex == \"male\":\n",
    "            print(\"man\")\n",
    "        elif self.sex == \"female\":\n",
    "            print(\"woman\")\n",
    "\n",
    "class Child(Person):                            # Child 继承 Person\n",
    "    pass\n",
    "            \n",
    "May = Child(\"May\",\"female\")\n",
    "Peter = Person(\"Peter\",\"male\")\n",
    "\n",
    "print(May.name,May.sex,Peter.name,Peter.sex)    # 子类继承父类方法及属性\n",
    "May.print_title()\n",
    "Peter.print_title()"
   ]
  },
  {
   "cell_type": "code",
   "execution_count": null,
   "metadata": {
    "collapsed": true
   },
   "outputs": [],
   "source": []
  }
 ],
 "metadata": {
  "kernelspec": {
   "display_name": "Python 3",
   "language": "python",
   "name": "python3"
  },
  "language_info": {
   "codemirror_mode": {
    "name": "ipython",
    "version": 3
   },
   "file_extension": ".py",
   "mimetype": "text/x-python",
   "name": "python",
   "nbconvert_exporter": "python",
   "pygments_lexer": "ipython3",
   "version": "3.6.2"
  }
 },
 "nbformat": 4,
 "nbformat_minor": 2
}
