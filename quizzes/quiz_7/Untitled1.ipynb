{
 "cells": [
  {
   "cell_type": "code",
   "execution_count": 8,
   "metadata": {},
   "outputs": [
    {
     "name": "stdout",
     "output_type": "stream",
     "text": [
      "Enter three nonnegative integers: 0 20 100000\n",
      "50494, 99346, 55125, 5306, 33936, 67013, 63691, 53075, 39755, 62468, 46930, 76465, 28631, 66150, 18254, 36941, 18316, 99064, 12429, 81050\n",
      "55125, 67013, 63691, 53075, 39755, 76465, 28631, 36941, 12429, 50494, 99346, 5306, 33936, 62468, 46930, 66150, 18254, 18316, 99064, 81050\n"
     ]
    }
   ],
   "source": [
    "# %load quiz_7.py\n",
    "# Generates a linked list of a length determined by user input,\n",
    "# consisting of random nonnegative integers whose upper bound is also determined\n",
    "# by user input, and reorders the list so that it starts with all odd values and\n",
    "# ends with all even values, preserving the order of odd and even values in the\n",
    "# original list, respectively.\n",
    "#\n",
    "# Written by Eric Martin for COMP9021\n",
    "\n",
    "\n",
    "import sys\n",
    "from random import seed, randrange\n",
    "from extended_linked_list import ExtendedLinkedList\n",
    "\n",
    "\n",
    "def collect_references(L, length):\n",
    "    node = L.head\n",
    "    references = set()\n",
    "    for i in range(length):\n",
    "        references.add(id(node))\n",
    "        node = node.next_node\n",
    "    return references\n",
    "\n",
    "try:\n",
    "    for_seed, length, upper_bound = [int(i) for i in input('Enter three nonnegative integers: '\n",
    "                                                          ).split()\n",
    "                                    ]                                     \n",
    "    if for_seed < 0 or length < 0 or upper_bound < 0:\n",
    "        raise ValueError\n",
    "except ValueError:\n",
    "    print('Incorrect input, giving up.')\n",
    "    sys.exit()\n",
    "seed(for_seed)\n",
    "LL = ExtendedLinkedList([randrange(upper_bound + 1) for _ in range(length)])\n",
    "LL.print()\n",
    "references = collect_references(LL, length)\n",
    "LL.rearrange()\n",
    "if collect_references(LL, length) != references:\n",
    "    print('You cheated!')\n",
    "    sys.exit()\n",
    "else:\n",
    "    LL.print()\n"
   ]
  },
  {
   "cell_type": "code",
   "execution_count": null,
   "metadata": {
    "collapsed": true
   },
   "outputs": [],
   "source": []
  }
 ],
 "metadata": {
  "kernelspec": {
   "display_name": "Python 3",
   "language": "python",
   "name": "python3"
  },
  "language_info": {
   "codemirror_mode": {
    "name": "ipython",
    "version": 3
   },
   "file_extension": ".py",
   "mimetype": "text/x-python",
   "name": "python",
   "nbconvert_exporter": "python",
   "pygments_lexer": "ipython3",
   "version": "3.6.2"
  }
 },
 "nbformat": 4,
 "nbformat_minor": 2
}
